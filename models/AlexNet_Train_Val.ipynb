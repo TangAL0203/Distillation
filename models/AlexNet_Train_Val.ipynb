{
 "cells": [
  {
   "cell_type": "code",
   "execution_count": 1,
   "metadata": {
    "collapsed": false
   },
   "outputs": [],
   "source": [
    "#-*-coding:utf-8-*-\n",
    "import AlexNet\n",
    "import torch\n",
    "import torch.nn as nn\n",
    "from torch.autograd import Variable\n",
    "from torch.nn import functional as F\n",
    "import utils.dataset as dataset\n",
    "import torchvision\n",
    "\n",
    "\n",
    "use_gpu = torch.cuda.is_available()"
   ]
  },
  {
   "cell_type": "code",
   "execution_count": 2,
   "metadata": {
    "collapsed": false
   },
   "outputs": [
    {
     "ename": "SyntaxError",
     "evalue": "invalid syntax (<ipython-input-2-c44b4e1a987e>, line 5)",
     "output_type": "error",
     "traceback": [
      "\u001b[0;36m  File \u001b[0;32m\"<ipython-input-2-c44b4e1a987e>\"\u001b[0;36m, line \u001b[0;32m5\u001b[0m\n\u001b[0;31m    n = block.kernel_size[0] * block.kernel_size[1] *\u001b[0m\n\u001b[0m                                                      ^\u001b[0m\n\u001b[0;31mSyntaxError\u001b[0m\u001b[0;31m:\u001b[0m invalid syntax\n"
     ]
    }
   ],
   "source": [
    "# 初始化模型参数\n",
    "#　从０开始训练一个二分类器\n",
    "# 对conv层和全连接层参数初始化\n",
    "def weight_init(m):\n",
    "    if isinstance(m, nn.Conv2d):\n",
    "        n = m.kernel_size[0] * m.kernel_size[1] * m.out_channels\n",
    "        m.weight.data.normal_(0, math.sqrt(2. / n))\n",
    "        m.bias.data.zero_()\n",
    "    elif isinstance(m, nn.Linear):\n",
    "        m.weight.data.normal_(mean=0, std=1)\n",
    "        m.bias.data.zero_()\n",
    "# 创建Dataloader\n",
    "        \n",
    "# 模型训练\n",
    "def train(model, epoch, train_loader):\n",
    "    if use_gpu:\n",
    "        model = model.gpu()\n",
    "    model.train()\n",
    "    for batch_idx, (data, label) in enumerate(train_loader):\n",
    "        if use_gpu:\n",
    "            data, label = data.cuda(), label.cuda()\n",
    "        data, label = Variable(data), Variable(label)\n",
    "        # 初始化优化器\n",
    "        # 前向计算\n",
    "        # 计算损失\n",
    "        # 反向更新参数\n",
    "\n",
    "# 模型前向计算\n",
    "def val(model):\n",
    "    #\n",
    "\n",
    "if __name__ == \"__main__\":\n",
    "\n",
    "    model = AlexNet.AlexNet(2) # 定义一个网络\n",
    "    if use_gpu:\n",
    "        model = model.cuda()\n",
    "        print(\"Use GPU!\")\n",
    "    else:\n",
    "        print(\"Use CPU!\")\n",
    "    path = \"./data/train\"\n",
    "    train_loder = dataset.train_loder(path, batch_size=32, num_workers=4, pin_memory=True)\n",
    "    "
   ]
  },
  {
   "cell_type": "code",
   "execution_count": null,
   "metadata": {
    "collapsed": true
   },
   "outputs": [],
   "source": []
  }
 ],
 "metadata": {
  "kernelspec": {
   "display_name": "Python 2",
   "language": "python",
   "name": "python2"
  },
  "language_info": {
   "codemirror_mode": {
    "name": "ipython",
    "version": 2
   },
   "file_extension": ".py",
   "mimetype": "text/x-python",
   "name": "python",
   "nbconvert_exporter": "python",
   "pygments_lexer": "ipython2",
   "version": "2.7.13"
  }
 },
 "nbformat": 4,
 "nbformat_minor": 2
}
